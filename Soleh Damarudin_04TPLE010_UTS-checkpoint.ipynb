{
 "cells": [
  {
   "cell_type": "code",
   "execution_count": 49,
   "metadata": {
    "collapsed": true
   },
   "outputs": [],
   "source": [
    "company_name_list = [{'name': 'Company 1'},\n",
    "          {'name': 'Company 2'},\n",
    "          {'name': 'Company 3'}]\n",
    "\n",
    "employee_name_list = [{'name': 'John Doe'},\n",
    "          {'name': 'Tom Smith'},\n",
    "          {'name': 'Andrew Sebastian'}]\n",
    "\n",
    "company_detail_list = {\n",
    "      'Company 1': {\n",
    "          'name': 'Company 1',\n",
    "          'domain': 'Retail',\n",
    "          'clients': [\n",
    "              {\n",
    "                  'name': 'acme.inc',\n",
    "                  'country': 'united states'\n",
    "              },\n",
    "              {\n",
    "                  'name': 'Wayne.co',\n",
    "                  'country': 'united states'\n",
    "              }\n",
    "          ]\n",
    "      },\n",
    "      'Company 2': {\n",
    "          'name': 'Company 2',\n",
    "          'domain': 'Construction',\n",
    "          'clients': [\n",
    "              {\n",
    "                  'name': 'Tesla',\n",
    "                  'country': 'united states'\n",
    "              },\n",
    "              {\n",
    "                  'name': 'Japan Airlines',\n",
    "                  'country': 'japan'\n",
    "              },\n",
    "              {\n",
    "                  'name': 'Indofood',\n",
    "                  'country': 'indonesia'\n",
    "              }\n",
    "          ]\n",
    "      },\n",
    "      'Company 3': {\n",
    "          'name': 'Company 3',\n",
    "          'domain': 'Healthcare',\n",
    "          'clients': [\n",
    "              {\n",
    "                  'name': 'Petronas',\n",
    "                  'country': 'malaysia'\n",
    "              },\n",
    "              {\n",
    "                  'name': 'VW Group',\n",
    "                  'country': 'germany'\n",
    "              },\n",
    "              {\n",
    "                  'name': 'IBM',\n",
    "                  'country': 'united states'\n",
    "              },\n",
    "              {\n",
    "                  'name': 'Mitsubishi',\n",
    "                  'country': 'japan'\n",
    "              }\n",
    "          ]\n",
    "      }\n",
    "  }\n",
    "\n",
    "employee_detail_list = {\n",
    "      'John Doe': {\n",
    "          'name': 'EMP-0001',\n",
    "          'first_name': 'John',\n",
    "          'last_name': 'Doe',\n",
    "          'full_name': 'John Doe',\n",
    "          'company': 'Company 1'\n",
    "      },\n",
    "      'Tom Smith': {\n",
    "          'name': 'EMP-0002',\n",
    "          'first_name': 'Tom',\n",
    "          'last_name': 'Smith',\n",
    "          'full_name': 'Tom Smith',\n",
    "          'company': 'Company 2'\n",
    "      },\n",
    "      'Andrew Sebastian': {\n",
    "          'name': 'EMP-0003',\n",
    "          'first_name': 'Andrew',\n",
    "          'last_name': 'Sebastian',\n",
    "          'full_name': 'Andrew Sebastian',\n",
    "          'company': 'Company 2'\n",
    "      },\n",
    "      'Soleh Damarudin': {\n",
    "          'name': 'EMP-0004',\n",
    "          'first_name': 'Soleh',\n",
    "          'last_name': 'Damarudin',\n",
    "          'full_name': 'Soleh Damarudin',\n",
    "          'company': 'Company 3'\n",
    "      },\n",
    "  }"
   ]
  },
  {
   "cell_type": "code",
   "execution_count": null,
   "metadata": {},
   "outputs": [],
   "source": []
  },
  {
   "cell_type": "markdown",
   "metadata": {},
   "source": [
    "1\n",
    "\n",
    "Please get the list of all Companies and sort by Company Domain in reverse order.\n",
    "\n",
    "Expected result:"
   ]
  },
  {
   "cell_type": "code",
   "execution_count": 41,
   "metadata": {},
   "outputs": [
    {
     "name": "stdout",
     "output_type": "stream",
     "text": [
      "1. Expected result:\n",
      "{'name': 'Company 1', 'domain': 'Retail'}\n",
      "{'name': 'Company 3', 'domain': 'Healthcare'}\n",
      "{'name': 'Company 2', 'domain': 'Construction'}\n"
     ]
    }
   ],
   "source": [
    "def sort_company(company_detail_list):\n",
    "  return sorted(\n",
    "      [{\n",
    "          \"name\": company[\"name\"],\n",
    "          \"domain\": company[\"domain\"]\n",
    "      } for company in company_detail_list.values()],\n",
    "      key=lambda c: c['domain'], reverse=True)\n",
    "\n",
    "sorted_companies = sort_company(company_detail_list)\n",
    "print(\"1. Expected result:\")\n",
    "for company in sorted_companies:\n",
    "  print(company)"
   ]
  },
  {
   "cell_type": "markdown",
   "metadata": {},
   "source": [
    "---------------------------------------------------------------\n",
    "2\n",
    "\n",
    "Please print all Domain value in every company.\n",
    "\n",
    "Expected return:\n"
   ]
  },
  {
   "cell_type": "code",
   "execution_count": 45,
   "metadata": {},
   "outputs": [
    {
     "name": "stdout",
     "output_type": "stream",
     "text": [
      "2. Expected return:\n",
      "Company 1: Retail, relation: 2 clients\n",
      "Company 2: Construction, relation: 3 clients\n",
      "Company 3: Healthcare, relation: 4 clients\n"
     ]
    }
   ],
   "source": [
    "def get_company_domain():\n",
    "\n",
    "  results = []\n",
    "  for company_name, company_details in company_detail_list.items():\n",
    "    client_count = len(company_details['clients'])\n",
    "    domain = company_details['domain']\n",
    "    result_string = f\"{company_name}: {domain}, relation: {client_count} clients\"\n",
    "    results.append(result_string)\n",
    "  return results\n",
    "\n",
    "company_info = get_company_domain()\n",
    "print(\"2. Expected return:\")\n",
    "for info in company_info:\n",
    "  print(info)"
   ]
  },
  {
   "cell_type": "markdown",
   "metadata": {},
   "source": [
    "---------------------------------------------------------------\n",
    "3\n",
    "\n",
    "Create a function that return employees with it's company domain.\n",
    "\n",
    "Expected return:\n"
   ]
  },
  {
   "cell_type": "code",
   "execution_count": 47,
   "metadata": {},
   "outputs": [
    {
     "name": "stdout",
     "output_type": "stream",
     "text": [
      "3. Expected return:\n",
      "{'full_name': 'John Doe', 'company': 'Company 1', 'domain': 'Retail'}\n",
      "{'full_name': 'Tom Smith', 'company': 'Company 2', 'domain': 'Construction'}\n",
      "{'full_name': 'Andrew Sebastian', 'company': 'Company 2', 'domain': 'Construction'}\n"
     ]
    }
   ],
   "source": [
    "def get_employees():\n",
    "\n",
    "  employees = []\n",
    "  for employee_name, employee_details in employee_detail_list.items():\n",
    "    company = employee_details['company']\n",
    "    domain = company_detail_list[company]['domain']  # Get domain from company_detail_list\n",
    "    employee_info = {\n",
    "        \"full_name\": employee_details['full_name'],\n",
    "        \"company\": company,\n",
    "        \"domain\": domain\n",
    "    }\n",
    "    employees.append(employee_info)\n",
    "  return employees\n",
    "\n",
    "employee_data = get_employees()\n",
    "print(\"3. Expected return:\")\n",
    "for employee in employee_data:\n",
    "  print(employee)"
   ]
  },
  {
   "cell_type": "markdown",
   "metadata": {},
   "source": [
    "---------------------------------\n",
    "4\n",
    "\n",
    "Create a function that return companies with list of employees that are working in the company.\n",
    "\n",
    "Expected return:"
   ]
  },
  {
   "cell_type": "code",
   "execution_count": 52,
   "metadata": {},
   "outputs": [
    {
     "name": "stdout",
     "output_type": "stream",
     "text": [
      "4. Expected return:\n",
      "{'company': 'Company 1', 'employees': ['John Doe']}\n",
      "{'company': 'Company 2', 'employees': ['Tom Smith', 'Andrew Sebastian']}\n",
      "{'company': 'Company 3', 'employees': ['Muhammad Iqbal']}\n"
     ]
    }
   ],
   "source": [
    "def get_employees_by_company():\n",
    "\n",
    "  company_employees = {}\n",
    "  for employee_name, employee_details in employee_detail_list.items():\n",
    "    company = employee_details['company']\n",
    "    if company not in company_employees:\n",
    "      company_employees[company] = []\n",
    "    company_employees[company].append(employee_details['full_name'])\n",
    "  return [\n",
    "      {\"company\": company, \"employees\": employees}\n",
    "      for company, employees in company_employees.items()\n",
    "  ]\n",
    "\n",
    "employee_groups = get_employees_by_company()\n",
    "print(\"4. Expected return:\")\n",
    "for group in employee_groups:\n",
    "  print(group)"
   ]
  },
  {
   "cell_type": "markdown",
   "metadata": {},
   "source": []
  },
  {
   "cell_type": "code",
   "execution_count": null,
   "metadata": {},
   "outputs": [],
   "source": []
  },
  {
   "cell_type": "code",
   "execution_count": null,
   "metadata": {
    "collapsed": true
   },
   "outputs": [],
   "source": []
  }
 ],
 "metadata": {
  "kernelspec": {
   "display_name": "Python 3",
   "language": "python",
   "name": "python3"
  },
  "language_info": {
   "codemirror_mode": {
    "name": "ipython",
    "version": 3
   },
   "file_extension": ".py",
   "mimetype": "text/x-python",
   "name": "python",
   "nbconvert_exporter": "python",
   "pygments_lexer": "ipython3",
   "version": "3.6.3"
  }
 },
 "nbformat": 4,
 "nbformat_minor": 2
}
